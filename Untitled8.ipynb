{
  "nbformat": 4,
  "nbformat_minor": 0,
  "metadata": {
    "colab": {
      "provenance": [],
      "authorship_tag": "ABX9TyNxIgddZx14H12vbrbYjLiD",
      "include_colab_link": true
    },
    "kernelspec": {
      "name": "python3",
      "display_name": "Python 3"
    },
    "language_info": {
      "name": "python"
    }
  },
  "cells": [
    {
      "cell_type": "markdown",
      "metadata": {
        "id": "view-in-github",
        "colab_type": "text"
      },
      "source": [
        "<a href=\"https://colab.research.google.com/github/vitogunawan18/Sistem_Pakar_Forward_Chaining-Backward_Chaining/blob/main/Untitled8.ipynb\" target=\"_parent\"><img src=\"https://colab.research.google.com/assets/colab-badge.svg\" alt=\"Open In Colab\"/></a>"
      ]
    },
    {
      "cell_type": "code",
      "execution_count": 2,
      "metadata": {
        "colab": {
          "base_uri": "https://localhost:8080/"
        },
        "id": "NdtEM_Ex5E_M",
        "outputId": "cd4bc0b6-6521-40a4-a491-046fdd99679c"
      },
      "outputs": [
        {
          "output_type": "stream",
          "name": "stdout",
          "text": [
            "Collecting experta\n",
            "  Downloading experta-1.9.4-py3-none-any.whl.metadata (5.0 kB)\n",
            "Collecting frozendict==1.2 (from experta)\n",
            "  Downloading frozendict-1.2.tar.gz (2.6 kB)\n",
            "  Preparing metadata (setup.py) ... \u001b[?25l\u001b[?25hdone\n",
            "Collecting schema==0.6.7 (from experta)\n",
            "  Downloading schema-0.6.7-py2.py3-none-any.whl.metadata (14 kB)\n",
            "Downloading experta-1.9.4-py3-none-any.whl (35 kB)\n",
            "Downloading schema-0.6.7-py2.py3-none-any.whl (14 kB)\n",
            "Building wheels for collected packages: frozendict\n",
            "  Building wheel for frozendict (setup.py) ... \u001b[?25l\u001b[?25hdone\n",
            "  Created wheel for frozendict: filename=frozendict-1.2-py3-none-any.whl size=3149 sha256=d1f62c5e90b04064de403e9349626aace2302b2e9a638ebac67d05c0c8413f0d\n",
            "  Stored in directory: /root/.cache/pip/wheels/49/ac/f8/cb8120244e710bdb479c86198b03c7b08c3c2d3d2bf448fd6e\n",
            "Successfully built frozendict\n",
            "Installing collected packages: schema, frozendict, experta\n",
            "  Attempting uninstall: frozendict\n",
            "    Found existing installation: frozendict 2.4.6\n",
            "    Uninstalling frozendict-2.4.6:\n",
            "      Successfully uninstalled frozendict-2.4.6\n",
            "\u001b[31mERROR: pip's dependency resolver does not currently take into account all the packages that are installed. This behaviour is the source of the following dependency conflicts.\n",
            "yfinance 0.2.55 requires frozendict>=2.3.4, but you have frozendict 1.2 which is incompatible.\u001b[0m\u001b[31m\n",
            "\u001b[0mSuccessfully installed experta-1.9.4 frozendict-1.2 schema-0.6.7\n"
          ]
        }
      ],
      "source": [
        "!pip install experta\n"
      ]
    },
    {
      "cell_type": "code",
      "source": [
        "!pip install --upgrade Frozendict"
      ],
      "metadata": {
        "colab": {
          "base_uri": "https://localhost:8080/"
        },
        "id": "aLTzCxs95VE-",
        "outputId": "cd6efb6a-1f26-4be2-cf20-c324c46eb3fa"
      },
      "execution_count": 3,
      "outputs": [
        {
          "output_type": "stream",
          "name": "stdout",
          "text": [
            "Requirement already satisfied: Frozendict in /usr/local/lib/python3.11/dist-packages (1.2)\n",
            "Collecting Frozendict\n",
            "  Downloading frozendict-2.4.6-py311-none-any.whl.metadata (23 kB)\n",
            "Downloading frozendict-2.4.6-py311-none-any.whl (16 kB)\n",
            "Installing collected packages: Frozendict\n",
            "  Attempting uninstall: Frozendict\n",
            "    Found existing installation: frozendict 1.2\n",
            "    Uninstalling frozendict-1.2:\n",
            "      Successfully uninstalled frozendict-1.2\n",
            "\u001b[31mERROR: pip's dependency resolver does not currently take into account all the packages that are installed. This behaviour is the source of the following dependency conflicts.\n",
            "experta 1.9.4 requires frozendict==1.2, but you have frozendict 2.4.6 which is incompatible.\u001b[0m\u001b[31m\n",
            "\u001b[0mSuccessfully installed Frozendict-2.4.6\n"
          ]
        }
      ]
    },
    {
      "cell_type": "code",
      "source": [
        "from experta import *\n",
        "\n",
        "class Diagnosis(KnowledgeEngine):\n",
        "    @Rule(Fact(cough=True) & Fact(fever=True) & Fact(fatigue=True))\n",
        "    def flu(self):\n",
        "        print(\"Diagnosis: You may have the Flu.\")\n",
        "\n",
        "    @Rule(Fact(cough=True) & Fact(fever=True) & Fact(breathing_difficulty=True))\n",
        "    def pneumonia(self):\n",
        "        print(\"Diagnosis: You may have Pneumonia.\")\n",
        "\n",
        "    @Rule(Fact(sneezing=True) & Fact(runny_nose=True) & Fact(cough=False))\n",
        "    def cold(self):\n",
        "        print(\"Diagnosis: You may have a Common Cold.\")\n",
        "\n",
        "    @Rule(Fact(sore_throat=True) & Fact(fever=True))\n",
        "    def throat_infection(self):\n",
        "        print(\"Diagnosis: You may have a Throat Infection.\")\n",
        "\n",
        "    @Rule(Fact(cough=False) & Fact(fever=False) & Fact(fatigue=False))\n",
        "    def healthy(self):\n",
        "        print(\"Diagnosis: You seem to be healthy.\")\n",
        "\n",
        "    @Rule(Fact(breathing_difficulty=True) & Fact(wheezing=True) & Fact(cough=True))\n",
        "    def asthma(self):\n",
        "        print(\"Diagnosis: You may have Asthma.\")\n",
        "\n",
        "    @Rule(Fact(sneezing=True) & Fact(runny_nose=True) & Fact(itchy_eyes=True))\n",
        "    def allergy(self):\n",
        "        print(\"Diagnosis: You may be experiencing an Allergy.\")\n",
        "\n",
        "    @Rule(Fact(fever=True) & Fact(cough=True) & Fact(loss_of_taste=True))\n",
        "    def covid19(self):\n",
        "        print(\"Diagnosis: You may have COVID-19.\")\n",
        "\n",
        "    @Rule(Fact(fever=True) & Fact(stomach_pain=True) & Fact(fatigue=True))\n",
        "    def typhoid(self):\n",
        "        print(\"Diagnosis: You may have Typhoid Fever.\")\n",
        "\n",
        "    @Rule(Fact(headache=True) & Fact(facial_pain=True) & Fact(runny_nose=True))\n",
        "    def sinusitis(self):\n",
        "        print(\"Diagnosis: You may have Sinusitis.\")\n",
        "\n",
        "    @Rule(Fact(fever=True) & Fact(muscle_pain=True) & Fact(rash=True))\n",
        "    def dengue(self):\n",
        "        print(\"Diagnosis: You may have Dengue Fever.\")\n",
        "\n",
        "    @Rule(Fact(headache=True) & Fact(nausea=True) & Fact(light_sensitivity=True))\n",
        "    def migraine(self):\n",
        "        print(\"Diagnosis: You may be experiencing a Migraine.\")\n",
        "\n",
        "    @Rule(Fact(fever=True) & Fact(chills=True) & Fact(sweating=True))\n",
        "    def malaria(self):\n",
        "        print(\"Diagnosis: You may have Malaria.\")\n",
        "\n",
        "    @Rule(Fact(fever=True) & Fact(rash=True) & Fact(red_eyes=True))\n",
        "    def measles(self):\n",
        "        print(\"Diagnosis: You may have Measles.\")\n",
        "\n",
        "    @Rule(Fact(cough=True) & Fact(fever=True) & Fact(chest_pain=True))\n",
        "    def bronchitis(self):\n",
        "        print(\"Diagnosis: You may have Bronchitis.\")\n",
        "\n",
        "def get_input():\n",
        "    def ask_question(question):\n",
        "        return input(question + \" (yes/no): \").strip().lower() == \"yes\"\n",
        "\n",
        "    return {\n",
        "        \"cough\": ask_question(\"Do you have a cough?\"),\n",
        "        \"fever\": ask_question(\"Do you have a fever?\"),\n",
        "        \"fatigue\": ask_question(\"Do you feel fatigued?\"),\n",
        "        \"breathing_difficulty\": ask_question(\"Do you have difficulty breathing?\"),\n",
        "        \"sneezing\": ask_question(\"Are you sneezing?\"),\n",
        "        \"runny_nose\": ask_question(\"Do you have a runny nose?\"),\n",
        "        \"sore_throat\": ask_question(\"Do you have a sore throat?\"),\n",
        "        \"wheezing\": ask_question(\"Are you wheezing?\"),\n",
        "        \"itchy_eyes\": ask_question(\"Do you have itchy eyes?\"),\n",
        "        \"loss_of_taste\": ask_question(\"Have you lost your sense of taste?\"),\n",
        "        \"stomach_pain\": ask_question(\"Do you have stomach pain?\"),\n",
        "        \"headache\": ask_question(\"Do you have a headache?\"),\n",
        "        \"facial_pain\": ask_question(\"Do you have facial pain?\"),\n",
        "        \"muscle_pain\": ask_question(\"Do your muscles hurt?\"),\n",
        "        \"rash\": ask_question(\"Do you have a skin rash?\"),\n",
        "        \"nausea\": ask_question(\"Do you feel nauseous?\"),\n",
        "        \"light_sensitivity\": ask_question(\"Are you sensitive to light?\"),\n",
        "        \"chills\": ask_question(\"Do you have chills?\"),\n",
        "        \"sweating\": ask_question(\"Are you sweating a lot?\"),\n",
        "        \"red_eyes\": ask_question(\"Do you have red eyes?\"),\n",
        "        \"chest_pain\": ask_question(\"Do you have chest pain?\")\n",
        "    }\n",
        "\n",
        "if __name__ == \"__main__\":\n",
        "    print(\"\\n===== Expert System for Disease Diagnosis =====\\n\")\n",
        "    symptoms = get_input()\n",
        "    print(\"\\nAnalyzing your symptoms...\\n\")\n",
        "\n",
        "    engine = Diagnosis()\n",
        "    engine.reset()\n",
        "\n",
        "    for symptom, present in symptoms.items():\n",
        "        engine.declare(Fact(**{symptom: present}))\n",
        "\n",
        "    engine.run()\n",
        "nnn"
      ],
      "metadata": {
        "colab": {
          "base_uri": "https://localhost:8080/"
        },
        "id": "klnNqcCi5eps",
        "outputId": "8c4a19d0-26bc-4edb-c32a-e80307ee1fda"
      },
      "execution_count": 13,
      "outputs": [
        {
          "output_type": "stream",
          "name": "stdout",
          "text": [
            "\n",
            "===== Expert System for Disease Diagnosis =====\n",
            "\n",
            "Do you have a cough? (yes/no): yes\n",
            "Do you have a fever? (yes/no): yes\n",
            "Do you feel fatigued? (yes/no): yes\n",
            "Do you have difficulty breathing? (yes/no): yes\n",
            "Are you sneezing? (yes/no): yes\n",
            "Do you have a runny nose? (yes/no): no\n",
            "Do you have a sore throat? (yes/no): no\n",
            "Are you wheezing? (yes/no): no\n",
            "Do you have itchy eyes? (yes/no): no\n",
            "Have you lost your sense of taste? (yes/no): no\n",
            "Do you have stomach pain? (yes/no): no\n",
            "Do you have a headache? (yes/no): no\n",
            "Do you have facial pain? (yes/no): no\n",
            "Do your muscles hurt? (yes/no): yes\n",
            "Do you have a skin rash? (yes/no): yes\n",
            "Do you feel nauseous? (yes/no): yes\n",
            "Are you sensitive to light? (yes/no): yes\n",
            "Do you have chills? (yes/no): yes\n",
            "Are you sweating a lot? (yes/no): no\n",
            "Do you have red eyes? (yes/no): no\n",
            "Do you have chest pain? (yes/no): no\n",
            "\n",
            "Analyzing your symptoms...\n",
            "\n",
            "Diagnosis: You may have Dengue Fever.\n",
            "Diagnosis: You may have Pneumonia.\n",
            "Diagnosis: You may have the Flu.\n"
          ]
        }
      ]
    },
    {
      "cell_type": "code",
      "source": [
        "from experta import *\n",
        "\n",
        "class SistemPakarMedis(KnowledgeEngine):\n",
        "    @Rule(Fact(demam=True) & Fact(batuk=True))\n",
        "    def flu(self):\n",
        "        print(\"Diagnosis: Flu.\")\n",
        "\n",
        "    @Rule(Fact(sakit_tenggorokan=True) & Fact(demam=True))\n",
        "    def throat_infection(self):\n",
        "        print(\"Diagnosis: Radang Tenggorokan.\")\n",
        "\n",
        "# Running the Expert System\n",
        "engine = SistemPakarMedis()\n",
        "engine.reset()\n",
        "engine.declare(Fact(demam=True))                        # Input symptoms\n",
        "engine.declare(Fact(sakit_tenggorokan=True))\n",
        "engine.run()"
      ],
      "metadata": {
        "colab": {
          "base_uri": "https://localhost:8080/"
        },
        "id": "nZ6DbdlpD05o",
        "outputId": "0636d313-c426-4d92-cb42-eda4444b02a2"
      },
      "execution_count": null,
      "outputs": [
        {
          "output_type": "stream",
          "name": "stdout",
          "text": [
            "Diagnosis: Radang Tenggorokan.\n"
          ]
        }
      ]
    },
    {
      "cell_type": "code",
      "source": [
        "def forward_chaining(facts, rules):\n",
        "    inferred = set(facts)\n",
        "    changed = True\n",
        "\n",
        "    while changed:\n",
        "        changed = False\n",
        "        for rule in rules:\n",
        "            if rule[\"if\"].issubset(inferred) and rule[\"then\"] not in inferred:\n",
        "                inferred.add(rule[\"then\"])\n",
        "                changed = True\n",
        "    return inferred\n",
        "\n",
        "\n",
        "facts = {\"has_feathers\", \"has_beak\", \"cannot_fly\"}\n",
        "rules = [\n",
        "    {\"if\": {\"has_feathers\", \"has_beak\"}, \"then\": \"is_bird\"},\n",
        "    {\"if\": {\"lays_eggs\", \"is_bird\"}, \"then\": \"is_chicken\"},\n",
        "    {\"if\": {\"cannot_fly\", \"is_bird\"}, \"then\": \"is_penguin\"},\n",
        "    {\"if\": {\"carnivore\", \"is_bird\"}, \"then\": \"is_eagle\"}\n",
        "]\n",
        "\n",
        "result = forward_chaining(facts, rules)\n",
        "print(\"Inferred facts:\", result)"
      ],
      "metadata": {
        "colab": {
          "base_uri": "https://localhost:8080/"
        },
        "id": "AqtEdEkVH83C",
        "outputId": "6bddce39-81f0-4765-8d62-aebd4ec334da"
      },
      "execution_count": null,
      "outputs": [
        {
          "output_type": "stream",
          "name": "stdout",
          "text": [
            "Inferred facts: {'is_penguin', 'cannot_fly', 'is_bird', 'has_beak', 'has_feathers'}\n"
          ]
        }
      ]
    },
    {
      "cell_type": "code",
      "source": [
        "def backward_chaining(goal, facts, rules):\n",
        "    if goal in facts:\n",
        "        return True\n",
        "    for rule in rules:\n",
        "        if rule[\"then\"] == goal:\n",
        "            if all(backward_chaining(cond, facts, rules) for cond in rule[\"if\"]):\n",
        "                return True\n",
        "    return False\n",
        "\n",
        "facts = {\"likes_computers\", \"solves_problems\",\"likes_to_design\"}\n",
        "rules = [\n",
        "    { \"if\": [\"likes_computers\", \"solves_problems\"], \"then\": \"should_be_engineer\" },\n",
        "    { \"if\": [\"should_be_engineer\", \"likes_programming\"], \"then\": \"software_engineer\" },\n",
        "    { \"if\": [\"should_be_engineer\", \"likes_to_design\"], \"then\": \"UI/UX_engineer\" }\n",
        "]\n",
        "\n",
        "goal = \"UI/UX_engineer\"\n",
        "result = backward_chaining(goal, facts, rules)\n",
        "print(f\"Is '{goal}' provable? ->\", result)"
      ],
      "metadata": {
        "colab": {
          "base_uri": "https://localhost:8080/"
        },
        "id": "0-P2uadjM_rr",
        "outputId": "db7b56db-0798-438f-c5e9-2fd891372866"
      },
      "execution_count": null,
      "outputs": [
        {
          "output_type": "stream",
          "name": "stdout",
          "text": [
            "Is 'UI/UX_engineer' provable? -> True\n"
          ]
        }
      ]
    },
    {
      "cell_type": "code",
      "source": [
        "def forward_chaining(facts, rules):\n",
        "    inferred = set(facts)\n",
        "    changed = True\n",
        "\n",
        "    while changed:\n",
        "        changed = False\n",
        "        for rule in rules:\n",
        "            if rule[\"if\"].issubset(inferred) and rule[\"then\"] not in inferred:\n",
        "                inferred.add(rule[\"then\"])\n",
        "                changed = True\n",
        "    return inferred\n",
        "\n",
        "facts = {\"has_wheels\", \"has_engine\", \"has_four_wheels\"}\n",
        "rules = [\n",
        "    {\"if\": {\"has_wheels\", \"has_engine\"}, \"then\": \"is_vehicle\"},\n",
        "    {\"if\": {\"is_vehicle\", \"has_two_wheels\"}, \"then\": \"is_motorcycle\"},\n",
        "    {\"if\": {\"is_vehicle\", \"has_four_wheels\"}, \"then\": \"is_car\"},\n",
        "]\n",
        "\n",
        "result = forward_chaining(facts, rules)\n",
        "print(\"Inferred facts:\", result)"
      ],
      "metadata": {
        "colab": {
          "base_uri": "https://localhost:8080/"
        },
        "id": "EuHYVyyBRiUm",
        "outputId": "defb77fb-af7b-4a38-953a-0491a886b996"
      },
      "execution_count": null,
      "outputs": [
        {
          "output_type": "stream",
          "name": "stdout",
          "text": [
            "Inferred facts: {'is_car', 'has_four_wheels', 'has_engine', 'has_wheels', 'is_vehicle'}\n"
          ]
        }
      ]
    },
    {
      "cell_type": "code",
      "source": [
        "def backward_chaining(goal, facts, rules):\n",
        "    if goal in facts:\n",
        "        return True\n",
        "    for rule in rules:\n",
        "        if rule[\"then\"] == goal:\n",
        "            if all(backward_chaining(cond, facts, rules) for cond in rule[\"if\"]):\n",
        "                return True\n",
        "    return False\n",
        "\n",
        "facts = {\"has_feathers\", \"has_small_wings\"}\n",
        "rules = [\n",
        "    { \"if\": [\"is_bird\", \"cannot_fly\"], \"then\": \"is_penguin\" },\n",
        "    { \"if\": [\"has_feathers\"], \"then\": \"is_bird\" },\n",
        "    { \"if\": [\"has_small_wings\"], \"then\": \"cannot_fly\" }\n",
        "]\n",
        "goal = \"is_penguin\"\n",
        "result = backward_chaining(goal, facts, rules)\n",
        "print(f\"Is '{goal}' provable? ->\", result)"
      ],
      "metadata": {
        "colab": {
          "base_uri": "https://localhost:8080/"
        },
        "id": "OlCcm_-JTC-D",
        "outputId": "935f463f-a139-484f-fb48-a8977da4f805"
      },
      "execution_count": null,
      "outputs": [
        {
          "output_type": "stream",
          "name": "stdout",
          "text": [
            "Is 'is_penguin' provable? -> True\n"
          ]
        }
      ]
    }
  ]
}